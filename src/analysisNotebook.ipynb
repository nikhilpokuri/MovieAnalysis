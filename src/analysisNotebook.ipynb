{
 "cells": [
  {
   "cell_type": "code",
   "execution_count": 31,
   "metadata": {},
   "outputs": [],
   "source": [
    "import findspark\n",
    "findspark.init()"
   ]
  },
  {
   "cell_type": "code",
   "execution_count": 32,
   "metadata": {},
   "outputs": [],
   "source": [
    "from pyspark.sql import SparkSession\n",
    "spark = SparkSession.builder.appName(\"MovieTrendsAnalysis\").getOrCreate()"
   ]
  },
  {
   "cell_type": "code",
   "execution_count": 33,
   "metadata": {},
   "outputs": [
    {
     "name": "stdout",
     "output_type": "stream",
     "text": [
      "root\n",
      " |-- movieId: integer (nullable = true)\n",
      " |-- title: string (nullable = true)\n",
      " |-- genres: string (nullable = true)\n",
      "\n",
      "root\n",
      " |-- userId: integer (nullable = true)\n",
      " |-- movieId: integer (nullable = true)\n",
      " |-- rating: double (nullable = true)\n",
      " |-- timestamp: string (nullable = true)\n",
      "\n",
      "root\n",
      " |-- userId: integer (nullable = true)\n",
      " |-- movieId: integer (nullable = true)\n",
      " |-- tag: string (nullable = true)\n",
      " |-- timestamp: integer (nullable = true)\n",
      "\n",
      "root\n",
      " |-- movieId: integer (nullable = true)\n",
      " |-- imdbId: integer (nullable = true)\n",
      " |-- tmdbId: integer (nullable = true)\n",
      "\n"
     ]
    }
   ],
   "source": [
    "from data_ingestion import Session\n",
    "from data_cleaning import CleanData\n",
    "from data_transformation import TransformData\n",
    "\n",
    "datasets = Session().load_data(spark)\n",
    "datasets = CleanData().clean_data(datasets)\n",
    "datasets = TransformData().transform_data(datasets)\n",
    "\n",
    "\n",
    "movies_df = datasets.get(\"movies_df\")\n",
    "ratings_df = datasets.get(\"ratings_df\")\n",
    "tags_df = datasets.get(\"tags_df\")\n",
    "links_df = datasets.get(\"links_df\")\n",
    "movies_df.printSchema()\n",
    "ratings_df.printSchema()\n",
    "tags_df.printSchema()\n",
    "links_df.printSchema()"
   ]
  },
  {
   "cell_type": "code",
   "execution_count": 4,
   "metadata": {},
   "outputs": [],
   "source": [
    "from pyspark.sql import functions as f"
   ]
  },
  {
   "cell_type": "code",
   "execution_count": 5,
   "metadata": {},
   "outputs": [
    {
     "name": "stdout",
     "output_type": "stream",
     "text": [
      "+-------+--------------------+--------------------+\n",
      "|movieId|               title|              genres|\n",
      "+-------+--------------------+--------------------+\n",
      "|      1|    Toy Story (1995)|Adventure|Animati...|\n",
      "|      2|      Jumanji (1995)|Adventure|Childre...|\n",
      "|      3|Grumpier Old Men ...|      Comedy|Romance|\n",
      "|      4|Waiting to Exhale...|Comedy|Drama|Romance|\n",
      "|      5|Father of the Bri...|              Comedy|\n",
      "+-------+--------------------+--------------------+\n",
      "only showing top 5 rows\n",
      "\n",
      "+------+-------+------+-------------------+\n",
      "|userId|movieId|rating|          timestamp|\n",
      "+------+-------+------+-------------------+\n",
      "|     1|      1|   4.0|31-07-2000 00:15:03|\n",
      "|     1|      3|   4.0|30-07-2000 23:50:47|\n",
      "|     1|      6|   4.0|31-07-2000 00:07:04|\n",
      "|     1|     47|   5.0|31-07-2000 00:33:35|\n",
      "|     1|     50|   5.0|31-07-2000 00:18:51|\n",
      "+------+-------+------+-------------------+\n",
      "only showing top 5 rows\n",
      "\n",
      "+-------+------+------+\n",
      "|movieId|imdbId|tmdbId|\n",
      "+-------+------+------+\n",
      "|      1|114709|   862|\n",
      "|      2|113497|  8844|\n",
      "|      3|113228| 15602|\n",
      "|      4|114885| 31357|\n",
      "|      5|113041| 11862|\n",
      "+-------+------+------+\n",
      "only showing top 5 rows\n",
      "\n",
      "+------+-------+---------------+----------+\n",
      "|userId|movieId|            tag| timestamp|\n",
      "+------+-------+---------------+----------+\n",
      "|     2|  60756|          funny|1445714994|\n",
      "|     2|  60756|Highly quotable|1445714996|\n",
      "|     2|  60756|   will ferrell|1445714992|\n",
      "|     2|  89774|   Boxing story|1445715207|\n",
      "|     2|  89774|            MMA|1445715200|\n",
      "+------+-------+---------------+----------+\n",
      "only showing top 5 rows\n",
      "\n"
     ]
    }
   ],
   "source": [
    "# Checking/Viewing the dataframes\n",
    "movies_df.show(5)\n",
    "ratings_df.show(5)\n",
    "links_df.show(5)\n",
    "tags_df.show(5)"
   ]
  },
  {
   "cell_type": "markdown",
   "metadata": {},
   "source": [
    "## ANALYSIS"
   ]
  },
  {
   "cell_type": "code",
   "execution_count": 6,
   "metadata": {},
   "outputs": [
    {
     "name": "stdout",
     "output_type": "stream",
     "text": [
      "9742\n"
     ]
    }
   ],
   "source": [
    "#  Count the total number of movies in the dataset.\n",
    "movies_count = movies_df.select(f.col(\"title\")).count()\n",
    "print(movies_count)"
   ]
  },
  {
   "cell_type": "code",
   "execution_count": 7,
   "metadata": {},
   "outputs": [
    {
     "name": "stdout",
     "output_type": "stream",
     "text": [
      "+-------+--------------------+---------+\n",
      "|movieId|               title|AvgRating|\n",
      "+-------+--------------------+---------+\n",
      "|   2657|Rocky Horror Pict...|     3.34|\n",
      "|   2076|  Blue Velvet (1986)|     3.95|\n",
      "|    493|Menace II Society...|     3.67|\n",
      "|    881|    First Kid (1996)|     2.10|\n",
      "|    442|Demolition Man (1...|     3.09|\n",
      "|   6548|  Bad Boys II (2003)|     2.88|\n",
      "| 141688|       Legend (2015)|     3.50|\n",
      "|   2171|Next Stop Wonderl...|     3.31|\n",
      "|   4085|Beverly Hills Cop...|     3.40|\n",
      "|  45447|Da Vinci Code, Th...|     3.12|\n",
      "|  38886|Squid and the Wha...|     3.44|\n",
      "| 142997|Hotel Transylvani...|     2.88|\n",
      "|   6059| Recruit, The (2003)|     3.35|\n",
      "|    938|         Gigi (1958)|     3.25|\n",
      "|  96373|       Broken (2012)|     4.50|\n",
      "| 134849|   Duck Amuck (1953)|     4.00|\n",
      "|  97172|Frankenweenie (2012)|     2.50|\n",
      "| 161966|         Elle (2016)|     4.00|\n",
      "|   5563|City by the Sea (...|     2.83|\n",
      "|   2946|        Help! (1965)|     3.36|\n",
      "+-------+--------------------+---------+\n",
      "only showing top 20 rows\n",
      "\n"
     ]
    }
   ],
   "source": [
    "# Calculate the average rating for each movie.\n",
    "joined_movie_rating_df = movies_df.join(ratings_df, on=\"movieId\")\n",
    "avg_rating = joined_movie_rating_df.groupBy(f.col(\"movieId\"), f.col(\"title\")).agg(\n",
    "    f.format_number(f.avg(f.col(\"rating\")), 2).alias(\"AvgRating\")\n",
    ")\n",
    "avg_rating.show()"
   ]
  },
  {
   "cell_type": "code",
   "execution_count": 8,
   "metadata": {},
   "outputs": [
    {
     "name": "stdout",
     "output_type": "stream",
     "text": [
      "+-------+--------------------+---------+\n",
      "|movieId|               title|ratingCnt|\n",
      "+-------+--------------------+---------+\n",
      "|   2657|Rocky Horror Pict...|       63|\n",
      "|   2076|  Blue Velvet (1986)|       46|\n",
      "|    493|Menace II Society...|       12|\n",
      "|    881|    First Kid (1996)|        5|\n",
      "|    442|Demolition Man (1...|       81|\n",
      "|   6548|  Bad Boys II (2003)|       17|\n",
      "| 141688|       Legend (2015)|        2|\n",
      "|   2171|Next Stop Wonderl...|        8|\n",
      "|   4085|Beverly Hills Cop...|       46|\n",
      "|  45447|Da Vinci Code, Th...|       49|\n",
      "|  38886|Squid and the Wha...|        9|\n",
      "| 142997|Hotel Transylvani...|        4|\n",
      "|   6059| Recruit, The (2003)|       17|\n",
      "|    938|         Gigi (1958)|        6|\n",
      "|  96373|       Broken (2012)|        1|\n",
      "| 134849|   Duck Amuck (1953)|        1|\n",
      "|  97172|Frankenweenie (2012)|        2|\n",
      "| 161966|         Elle (2016)|        1|\n",
      "|   5563|City by the Sea (...|        3|\n",
      "|   2946|        Help! (1965)|        7|\n",
      "+-------+--------------------+---------+\n",
      "only showing top 20 rows\n",
      "\n"
     ]
    }
   ],
   "source": [
    "# Determine the total number of ratings for each movie.\n",
    "rating_cnt = joined_movie_rating_df.groupBy(f.col(\"movieId\"), f.col(\"title\")).agg(\n",
    "    f.count(f.col(\"rating\")).alias(\"ratingCnt\")\n",
    "    )\n",
    "rating_cnt.show()"
   ]
  },
  {
   "cell_type": "code",
   "execution_count": 9,
   "metadata": {},
   "outputs": [
    {
     "name": "stdout",
     "output_type": "stream",
     "text": [
      "+------+-------------+\n",
      "|userId|UserAvgRating|\n",
      "+------+-------------+\n",
      "|     1|         4.37|\n",
      "|     2|         3.95|\n",
      "|     3|         2.44|\n",
      "|     4|         3.56|\n",
      "|     5|         3.64|\n",
      "|     6|         3.49|\n",
      "|     7|         3.23|\n",
      "|     8|         3.57|\n",
      "|     9|         3.26|\n",
      "|    10|         3.28|\n",
      "|    11|         3.78|\n",
      "|    12|         4.39|\n",
      "|    13|         3.65|\n",
      "|    14|         3.40|\n",
      "|    15|         3.45|\n",
      "|    16|         3.72|\n",
      "|    17|         4.21|\n",
      "|    18|         3.73|\n",
      "|    19|         2.61|\n",
      "|    20|         3.59|\n",
      "+------+-------------+\n",
      "only showing top 20 rows\n",
      "\n"
     ]
    }
   ],
   "source": [
    "# Calculate the average rating given by each user.\n",
    "avg_rating_by_user = ratings_df.groupBy(f.col(\"userId\")).agg(\n",
    "    f.format_number(f.avg(\"rating\"), 2).alias(\"UserAvgRating\")\n",
    ").orderBy(f.col(\"userId\"))\n",
    "avg_rating_by_user.show()"
   ]
  },
  {
   "cell_type": "code",
   "execution_count": 10,
   "metadata": {},
   "outputs": [
    {
     "name": "stdout",
     "output_type": "stream",
     "text": [
      "+------------------+--------+\n",
      "|            genres|MovieCnt|\n",
      "+------------------+--------+\n",
      "|             Crime|    1199|\n",
      "|           Romance|    1596|\n",
      "|          Thriller|    1894|\n",
      "|         Adventure|    1263|\n",
      "|             Drama|    4361|\n",
      "|               War|     382|\n",
      "|       Documentary|     440|\n",
      "|           Fantasy|     779|\n",
      "|           Mystery|     573|\n",
      "|           Musical|     334|\n",
      "|         Animation|     611|\n",
      "|         Film-Noir|      87|\n",
      "|(no genres listed)|      34|\n",
      "|              IMAX|     158|\n",
      "|            Horror|     978|\n",
      "|           Western|     167|\n",
      "|            Comedy|    3756|\n",
      "|          Children|     664|\n",
      "|            Action|    1828|\n",
      "|            Sci-Fi|     980|\n",
      "+------------------+--------+\n",
      "\n"
     ]
    }
   ],
   "source": [
    "# Calculate the total number of movies each genre has.\n",
    "separated_genre = movies_df.withColumn(\"genres\", f.explode(f.split(f.col(\"genres\"), \"\\\\|\")))\n",
    "movie_cnt_per_genre = separated_genre.groupBy(f.col(\"genres\")).agg(\n",
    "    f.count(f.col(\"title\")).alias(\"MovieCnt\")\n",
    ")\n",
    "movie_cnt_per_genre.show()\n"
   ]
  },
  {
   "cell_type": "code",
   "execution_count": 11,
   "metadata": {},
   "outputs": [
    {
     "name": "stdout",
     "output_type": "stream",
     "text": [
      "+------+-------+---------------+----------+\n",
      "|userId|movieId|            tag| timestamp|\n",
      "+------+-------+---------------+----------+\n",
      "|     2|  60756|          funny|1445714994|\n",
      "|     2|  60756|Highly quotable|1445714996|\n",
      "|     2|  60756|   will ferrell|1445714992|\n",
      "|     2|  89774|   Boxing story|1445715207|\n",
      "|     2|  89774|            MMA|1445715200|\n",
      "+------+-------+---------------+----------+\n",
      "only showing top 5 rows\n",
      "\n"
     ]
    }
   ],
   "source": [
    "tags_df.show(5)"
   ]
  },
  {
   "cell_type": "code",
   "execution_count": 12,
   "metadata": {},
   "outputs": [
    {
     "name": "stdout",
     "output_type": "stream",
     "text": [
      "+--------------+\n",
      "|AvgTagPerMovie|\n",
      "+--------------+\n",
      "|          2.34|\n",
      "+--------------+\n",
      "\n"
     ]
    }
   ],
   "source": [
    "# Find the average number of tags per movie.\n",
    "avg_tags_per_movie = tags_df.groupBy(f.col(\"movieId\")).agg(\n",
    "    f.count(f.col(\"tag\")).alias(\"tag_cnt\")).agg(\n",
    "    f.format_number(f.avg(f.col(\"tag_cnt\")), 2).alias(\"AvgTagPerMovie\")\n",
    ")\n",
    "avg_tags_per_movie.show()"
   ]
  },
  {
   "cell_type": "code",
   "execution_count": 13,
   "metadata": {},
   "outputs": [
    {
     "name": "stdout",
     "output_type": "stream",
     "text": [
      "+-------+---------+--------------------+\n",
      "|movieId|avgRating|               title|\n",
      "+-------+---------+--------------------+\n",
      "|     53|     5.00|     Lamerica (1994)|\n",
      "|     99|     5.00|Heidi Fleiss: Hol...|\n",
      "|    148|     5.00|Awfully Big Adven...|\n",
      "|    467|     5.00|Live Nude Girls (...|\n",
      "|    495|     5.00|In the Realm of t...|\n",
      "|    496|     5.00|What Happened Was...|\n",
      "|    626|     5.00|Thin Line Between...|\n",
      "|    633|     5.00|Denise Calls Up (...|\n",
      "|    876|     5.00|Supercop 2 (Proje...|\n",
      "|   1140|     5.00|Entertaining Ange...|\n",
      "+-------+---------+--------------------+\n",
      "\n"
     ]
    }
   ],
   "source": [
    "# Identify the top 10 highest-rated movies.\n",
    "top10_rated_movies = ratings_df.groupBy(f.col(\"movieId\")).agg(\n",
    "    f.format_number(f.avg(f.col(\"rating\")), 2).alias(\"avgRating\")\n",
    "    ).orderBy(f.col(\"avgRating\").desc(), f.col(\"movieId\")).limit(10)\n",
    "\n",
    "top10_rated_movies = top10_rated_movies.join(movies_df, on=\"movieId\").select(\n",
    "    f.col(\"movieId\"), f.col(\"avgRating\"), f.col(\"title\")\n",
    "    )\n",
    "top10_rated_movies.show()"
   ]
  },
  {
   "cell_type": "code",
   "execution_count": 14,
   "metadata": {},
   "outputs": [
    {
     "name": "stdout",
     "output_type": "stream",
     "text": [
      "+-------+-------+--------------------+\n",
      "|movieId|tag_cnt|               title|\n",
      "+-------+-------+--------------------+\n",
      "|    296|    181| Pulp Fiction (1994)|\n",
      "|   2959|     54|   Fight Club (1999)|\n",
      "|    924|     41|2001: A Space Ody...|\n",
      "|    293|     35|Léon: The Profess...|\n",
      "|   7361|     34|Eternal Sunshine ...|\n",
      "+-------+-------+--------------------+\n",
      "\n"
     ]
    }
   ],
   "source": [
    "# List the top 5 movies with the most tags.\n",
    "top5_most_tags = tags_df.groupBy(f.col(\"movieId\")).agg(\n",
    "    f.count(\"tag\").alias(\"tag_cnt\")\n",
    ").orderBy(f.col(\"tag_cnt\").desc()).limit(5)\n",
    "\n",
    "top5_most_tags = top5_most_tags.join(movies_df, on=\"movieId\", how=\"left_outer\").select(\n",
    "    f.col(\"movieId\"), f.col(\"tag_cnt\"), f.col(\"title\")\n",
    ")\n",
    "top5_most_tags.show()"
   ]
  },
  {
   "cell_type": "code",
   "execution_count": 15,
   "metadata": {},
   "outputs": [
    {
     "name": "stdout",
     "output_type": "stream",
     "text": [
      "+-----+---------+\n",
      "|genre|movie_cnt|\n",
      "+-----+---------+\n",
      "|Drama|     4361|\n",
      "+-----+---------+\n",
      "\n"
     ]
    }
   ],
   "source": [
    "# Determine the most popular genre based on the number of movies.\n",
    "popular_genre = movies_df.withColumn(\"genres\", f.explode(f.split(f.col(\"genres\"), \"\\\\|\"))).groupBy(f.col(\"genres\")).agg(\n",
    "    f.count(f.col(\"movieId\")).alias(\"movie_cnt\")\n",
    ").orderBy(f.col(\"movie_cnt\").desc()).limit(1).withColumnRenamed(\"genres\", \"genre\")\n",
    "popular_genre.show()\n"
   ]
  },
  {
   "cell_type": "code",
   "execution_count": 16,
   "metadata": {},
   "outputs": [
    {
     "name": "stdout",
     "output_type": "stream",
     "text": [
      "+-------+-------+--------------------+\n",
      "|movieId|userCnt|               title|\n",
      "+-------+-------+--------------------+\n",
      "|   1580|    165|Men in Black (a.k...|\n",
      "|   2366|     25|    King Kong (1933)|\n",
      "|   3175|     75| Galaxy Quest (1999)|\n",
      "|   1088|     42|Dirty Dancing (1987)|\n",
      "|  32460|      4|Knockin' on Heave...|\n",
      "+-------+-------+--------------------+\n",
      "only showing top 5 rows\n",
      "\n"
     ]
    }
   ],
   "source": [
    "# Identify the movies that have been rated by the most number of users.\n",
    "ratings_by_most_users = ratings_df.groupBy(f.col(\"movieId\")).agg(\n",
    "    f.count(f.col(\"userId\")).alias(\"userCnt\")\n",
    ").orderBy(f.col(\"userCnt\").desc())\n",
    "ratings_by_most_users = ratings_by_most_users.join(movies_df, on=\"movieId\", how=\"left_outer\").select(\n",
    "    f.col(\"movieId\"), f.col(\"userCnt\"), f.col(\"title\")\n",
    "    )\n",
    "ratings_by_most_users.show(5)"
   ]
  },
  {
   "cell_type": "code",
   "execution_count": 17,
   "metadata": {},
   "outputs": [
    {
     "name": "stdout",
     "output_type": "stream",
     "text": [
      "+-------+--------------------+-------+\n",
      "|movieId|               title|userCnt|\n",
      "+-------+--------------------+-------+\n",
      "|   1580|Men in Black (a.k...|    165|\n",
      "|   2366|    King Kong (1933)|     25|\n",
      "|   3175| Galaxy Quest (1999)|     75|\n",
      "|   1088|Dirty Dancing (1987)|     42|\n",
      "|  44022|Ice Age 2: The Me...|     23|\n",
      "|   1342|     Candyman (1992)|     11|\n",
      "|   1591|        Spawn (1997)|     26|\n",
      "|   1645|The Devil's Advoc...|     51|\n",
      "|    471|Hudsucker Proxy, ...|     40|\n",
      "|   3997|Dungeons & Dragon...|     12|\n",
      "|   1959|Out of Africa (1985)|     15|\n",
      "|   2122|Children of the C...|     11|\n",
      "|   6620|American Splendor...|     18|\n",
      "|  54190|Across the Univer...|     11|\n",
      "|   8638|Before Sunset (2004)|     15|\n",
      "|   1025|Sword in the Ston...|     25|\n",
      "|   1127|   Abyss, The (1989)|     62|\n",
      "|   2387|Very Bad Things (...|     16|\n",
      "|   2580|           Go (1999)|     39|\n",
      "|   1084|Bonnie and Clyde ...|     35|\n",
      "+-------+--------------------+-------+\n",
      "only showing top 20 rows\n",
      "\n"
     ]
    }
   ],
   "source": [
    "# List movies that have been tagged by more than 10 different users.\n",
    "rating_cnt_by_user = ratings_df.groupBy(f.col(\"movieId\")).agg(\n",
    "    f.count(f.col(\"userId\")).alias(\"userCnt\")\n",
    ")\n",
    "ratingCnt_moreThan10 = rating_cnt_by_user.filter(f.col(\"userCnt\")>10).join(movies_df, on=\"movieId\", how=\"left_outer\").select(\n",
    "    f.col(\"movieId\"), f.col(\"title\"), f.col(\"userCnt\")\n",
    "    )\n",
    "ratingCnt_moreThan10.show()"
   ]
  },
  {
   "cell_type": "code",
   "execution_count": 18,
   "metadata": {},
   "outputs": [
    {
     "name": "stdout",
     "output_type": "stream",
     "text": [
      "+------------------+\n",
      "|uniqueUsers_rating|\n",
      "+------------------+\n",
      "|               610|\n",
      "+------------------+\n",
      "\n"
     ]
    }
   ],
   "source": [
    "# Find the number of unique users who rated movies.\n",
    "unique_users_ratingCnt = ratings_df.agg(\n",
    "    f.count_distinct(f.col(\"userId\")).alias(\"uniqueUsers_rating\")\n",
    "    )\n",
    "unique_users_ratingCnt.show()"
   ]
  },
  {
   "cell_type": "code",
   "execution_count": 19,
   "metadata": {},
   "outputs": [
    {
     "name": "stdout",
     "output_type": "stream",
     "text": [
      "+------+-------------------+\n",
      "|userId|movies_rated_byUser|\n",
      "+------+-------------------+\n",
      "|   137|                141|\n",
      "|   580|                436|\n",
      "|   458|                 59|\n",
      "|   588|                 56|\n",
      "|    78|                 61|\n",
      "|   322|                107|\n",
      "|   321|                 56|\n",
      "|   362|                109|\n",
      "|   593|                103|\n",
      "|   597|                443|\n",
      "|   108|                 76|\n",
      "|    34|                 86|\n",
      "|   211|                 89|\n",
      "|   368|                469|\n",
      "|   101|                 61|\n",
      "|   115|                112|\n",
      "|   385|                201|\n",
      "|    28|                570|\n",
      "|   183|                 57|\n",
      "|   210|                138|\n",
      "+------+-------------------+\n",
      "only showing top 20 rows\n",
      "\n"
     ]
    }
   ],
   "source": [
    "# Identify users who have rated more than 50 movies.\n",
    "movies_rated_byUser_moreThan50 = ratings_df.groupBy(f.col(\"userId\")).agg(\n",
    "    f.count(f.col(\"movieId\")).alias(\"movies_rated_byUser\")\n",
    ").filter(f.col(\"movies_rated_byUser\")>50)\n",
    "movies_rated_byUser_moreThan50.show()"
   ]
  },
  {
   "cell_type": "code",
   "execution_count": 20,
   "metadata": {},
   "outputs": [
    {
     "name": "stdout",
     "output_type": "stream",
     "text": [
      "+------+-----+\n",
      "|userId|count|\n",
      "+------+-----+\n",
      "|   414| 2698|\n",
      "|   599| 2478|\n",
      "|   474| 2108|\n",
      "|   448| 1864|\n",
      "|   274| 1346|\n",
      "|   610| 1302|\n",
      "|    68| 1260|\n",
      "|   380| 1218|\n",
      "|   606| 1115|\n",
      "|   288| 1055|\n",
      "+------+-----+\n",
      "\n"
     ]
    }
   ],
   "source": [
    "# Most Active Users\n",
    "user_activity = ratings_df.groupby(f.col(\"userId\")).count().orderBy(f.col(\"count\").desc()).limit(10)\n",
    "user_activity.show()"
   ]
  },
  {
   "cell_type": "code",
   "execution_count": 21,
   "metadata": {},
   "outputs": [
    {
     "name": "stdout",
     "output_type": "stream",
     "text": [
      "+------+---------+\n",
      "|userId|avgRating|\n",
      "+------+---------+\n",
      "|   148|     3.74|\n",
      "|   463|     3.79|\n",
      "|   471|     3.88|\n",
      "|   496|     3.41|\n",
      "|   243|     4.14|\n",
      "|   392|     3.20|\n",
      "|   540|     4.00|\n",
      "|    31|     3.92|\n",
      "|   516|     3.69|\n",
      "|    85|     3.71|\n",
      "|   137|     3.98|\n",
      "|   251|     4.87|\n",
      "|   451|     3.79|\n",
      "|   580|     3.53|\n",
      "|    65|     4.03|\n",
      "|   458|     4.15|\n",
      "|    53|     5.00|\n",
      "|   255|     2.57|\n",
      "|   481|     2.81|\n",
      "|   588|     3.25|\n",
      "+------+---------+\n",
      "only showing top 20 rows\n",
      "\n"
     ]
    }
   ],
   "source": [
    "# Calculate the average rating given by each user.\n",
    "avg_rating_by_user = ratings_df.groupBy(f.col(\"userId\")).agg(\n",
    "    f.format_number(f.avg(f.col(\"rating\")), 2).alias(\"avgRating\")\n",
    "    )\n",
    "avg_rating_by_user.show()"
   ]
  },
  {
   "cell_type": "code",
   "execution_count": 22,
   "metadata": {},
   "outputs": [
    {
     "name": "stdout",
     "output_type": "stream",
     "text": [
      "+-------+------+------+---------+----------------+--------------------+\n",
      "|movieId|userId|rating|timestamp|           title|              genres|\n",
      "+-------+------+------+---------+----------------+--------------------+\n",
      "|      1|     1|   4.0|     NULL|Toy Story (1995)|Adventure|Animati...|\n",
      "+-------+------+------+---------+----------------+--------------------+\n",
      "\n"
     ]
    }
   ],
   "source": [
    "# Find the most recent movie rating based on the timestamp.\n",
    "recent_rating = ratings_df.withColumn(\"timestamp\", f.from_unixtime(f.col(\"timestamp\"))).withColumn(\n",
    "    \"timestamp\", f.date_format(\"timestamp\", \"dd-MM-yyyy HH:mm:ss\")\n",
    "    ).orderBy(f.col(\"timestamp\").desc()).limit(1)\n",
    "recent_rating = recent_rating.join(movies_df, on=\"movieId\", how=\"left_outer\")\n",
    "recent_rating.show()"
   ]
  },
  {
   "cell_type": "code",
   "execution_count": 23,
   "metadata": {},
   "outputs": [
    {
     "name": "stdout",
     "output_type": "stream",
     "text": [
      "+-------+-------+-------------------+--------------------+\n",
      "|movieId|tag_cnt|              title|              genres|\n",
      "+-------+-------+-------------------+--------------------+\n",
      "|    296|    181|Pulp Fiction (1994)|Comedy|Crime|Dram...|\n",
      "+-------+-------+-------------------+--------------------+\n",
      "\n"
     ]
    }
   ],
   "source": [
    "# Determine the movie with the highest number of tags.\n",
    "high_tag_cnt = tags_df.groupBy(f.col(\"movieId\")).agg(\n",
    "    f.count(f.col(\"tag\")).alias(\"tag_cnt\")\n",
    ").orderBy(f.col(\"tag_cnt\").desc()).limit(1)\n",
    "high_tag_cnt = high_tag_cnt.join(movies_df, on=\"movieId\", how=\"left_outer\")\n",
    "high_tag_cnt.show()"
   ]
  },
  {
   "cell_type": "code",
   "execution_count": 24,
   "metadata": {},
   "outputs": [
    {
     "name": "stdout",
     "output_type": "stream",
     "text": [
      "+------------------+---------+\n",
      "|            genres|genre_cnt|\n",
      "+------------------+---------+\n",
      "|             Drama|     4361|\n",
      "|            Comedy|     3756|\n",
      "|          Thriller|     1894|\n",
      "|            Action|     1828|\n",
      "|           Romance|     1596|\n",
      "|         Adventure|     1263|\n",
      "|             Crime|     1199|\n",
      "|            Sci-Fi|      980|\n",
      "|            Horror|      978|\n",
      "|           Fantasy|      779|\n",
      "|          Children|      664|\n",
      "|         Animation|      611|\n",
      "|           Mystery|      573|\n",
      "|       Documentary|      440|\n",
      "|               War|      382|\n",
      "|           Musical|      334|\n",
      "|           Western|      167|\n",
      "|              IMAX|      158|\n",
      "|         Film-Noir|       87|\n",
      "|(no genres listed)|       34|\n",
      "+------------------+---------+\n",
      "\n"
     ]
    }
   ],
   "source": [
    "# Find the most common tags used across the dataset.\n",
    "most_common_tags = movies_df.withColumn(\"genres\", f.explode(f.split(f.col(\"genres\"), \"\\\\|\"))).groupBy(f.col(\"genres\")).agg(\n",
    "    f.count(f.col(\"genres\")).alias(\"genre_cnt\")\n",
    ").orderBy(f.col(\"genre_cnt\").desc())\n",
    "most_common_tags.show()"
   ]
  },
  {
   "cell_type": "code",
   "execution_count": 25,
   "metadata": {},
   "outputs": [
    {
     "name": "stdout",
     "output_type": "stream",
     "text": [
      "+------------------+---------+\n",
      "|            genres|avgRating|\n",
      "+------------------+---------+\n",
      "|             Crime|     3.66|\n",
      "|           Romance|     3.51|\n",
      "|          Thriller|     3.49|\n",
      "|         Adventure|     3.51|\n",
      "|             Drama|     3.66|\n",
      "|               War|     3.81|\n",
      "|       Documentary|     3.80|\n",
      "|           Fantasy|     3.49|\n",
      "|           Mystery|     3.63|\n",
      "|           Musical|     3.56|\n",
      "|         Animation|     3.63|\n",
      "|         Film-Noir|     3.92|\n",
      "|(no genres listed)|     3.49|\n",
      "|              IMAX|     3.62|\n",
      "|            Horror|     3.26|\n",
      "|           Western|     3.58|\n",
      "|            Comedy|     3.38|\n",
      "|          Children|     3.41|\n",
      "|            Action|     3.45|\n",
      "|            Sci-Fi|     3.46|\n",
      "+------------------+---------+\n",
      "\n"
     ]
    }
   ],
   "source": [
    "# Calculate the average rating per genre.\n",
    "joined_movie_rating_df = movies_df.join(ratings_df, on=\"movieId\", how=\"left_outer\")\n",
    "genre_avg_rating = joined_movie_rating_df.withColumn(\"genres\", f.explode(f.split(f.col(\"genres\"), \"\\\\|\"))).groupBy(f.col(\"genres\")).agg(\n",
    "    f.format_number(f.avg(f.col(\"rating\")), 2).alias(\"avgRating\")\n",
    ")\n",
    "genre_avg_rating.show()\n"
   ]
  },
  {
   "cell_type": "code",
   "execution_count": 26,
   "metadata": {},
   "outputs": [
    {
     "name": "stdout",
     "output_type": "stream",
     "text": [
      "+------+-----+\n",
      "|rating|count|\n",
      "+------+-----+\n",
      "|   0.5| 1370|\n",
      "|   1.0| 2811|\n",
      "|   1.5| 1791|\n",
      "|   2.0| 7551|\n",
      "|   2.5| 5550|\n",
      "|   3.0|20047|\n",
      "|   3.5|13136|\n",
      "|   4.0|26818|\n",
      "|   4.5| 8551|\n",
      "|   5.0|13211|\n",
      "+------+-----+\n",
      "\n"
     ]
    }
   ],
   "source": [
    "# Determine the distribution of ratings (e.g., how many movies received each rating).\n",
    "movie_cnt_per_rating = ratings_df.groupBy(f.col(\"rating\")).count().orderBy(f.col(\"rating\"))\n",
    "movie_cnt_per_rating.show()"
   ]
  },
  {
   "cell_type": "code",
   "execution_count": 27,
   "metadata": {},
   "outputs": [
    {
     "name": "stdout",
     "output_type": "stream",
     "text": [
      "+--------+--------+--------+--------+\n",
      "|IMDB-min|IMDB-max|TMDB-min|TMDB-max|\n",
      "+--------+--------+--------+--------+\n",
      "|     417| 8391976|       2|  525662|\n",
      "+--------+--------+--------+--------+\n",
      "\n"
     ]
    }
   ],
   "source": [
    "# Identify the movies that have the highest and lowest IMDb and TMDb IDs.\n",
    "min_max_imdb_tmdb = links_df.agg(\n",
    "    f.min(f.col(\"imdbId\")).alias(\"IMDB-min\"),\n",
    "    f.max(f.col(\"imdbId\")).alias(\"IMDB-max\"),\n",
    "    f.min(f.col(\"tmdbId\")).alias(\"TMDB-min\"),\n",
    "    f.max(f.col(\"tmdbId\")).alias(\"TMDB-max\")\n",
    ")\n",
    "min_max_imdb_tmdb.show()"
   ]
  },
  {
   "cell_type": "code",
   "execution_count": 28,
   "metadata": {},
   "outputs": [
    {
     "name": "stdout",
     "output_type": "stream",
     "text": [
      "+-------+------+------+--------------------------------------+\n",
      "|movieId|imdbId|tmdbId|tmdbLink                              |\n",
      "+-------+------+------+--------------------------------------+\n",
      "|1      |114709|862   |https://www.themoviedb.org/movie/862  |\n",
      "|2      |113497|8844  |https://www.themoviedb.org/movie/8844 |\n",
      "|3      |113228|15602 |https://www.themoviedb.org/movie/15602|\n",
      "|4      |114885|31357 |https://www.themoviedb.org/movie/31357|\n",
      "|5      |113041|11862 |https://www.themoviedb.org/movie/11862|\n",
      "|6      |113277|949   |https://www.themoviedb.org/movie/949  |\n",
      "|7      |114319|11860 |https://www.themoviedb.org/movie/11860|\n",
      "|8      |112302|45325 |https://www.themoviedb.org/movie/45325|\n",
      "|9      |114576|9091  |https://www.themoviedb.org/movie/9091 |\n",
      "|10     |113189|710   |https://www.themoviedb.org/movie/710  |\n",
      "|11     |112346|9087  |https://www.themoviedb.org/movie/9087 |\n",
      "|12     |112896|12110 |https://www.themoviedb.org/movie/12110|\n",
      "|13     |112453|21032 |https://www.themoviedb.org/movie/21032|\n",
      "|14     |113987|10858 |https://www.themoviedb.org/movie/10858|\n",
      "|15     |112760|1408  |https://www.themoviedb.org/movie/1408 |\n",
      "|16     |112641|524   |https://www.themoviedb.org/movie/524  |\n",
      "|17     |114388|4584  |https://www.themoviedb.org/movie/4584 |\n",
      "|18     |113101|5     |https://www.themoviedb.org/movie/5    |\n",
      "|19     |112281|9273  |https://www.themoviedb.org/movie/9273 |\n",
      "|20     |113845|11517 |https://www.themoviedb.org/movie/11517|\n",
      "+-------+------+------+--------------------------------------+\n",
      "only showing top 20 rows\n",
      "\n"
     ]
    }
   ],
   "source": [
    "imbd_links = links_df.withColumn(\"imdbLink\", f.concat(\n",
    "    f.lit(\"http://www.imdb.com/title/tt\"), f.lpad(f.col(\"imdbId\").cast(\"string\"), 7, \"0\")\n",
    "))\n",
    "# imbd_links.show(truncate=False)\n",
    "\n",
    "tmdb_links = links_df.withColumn(\"tmdbLink\", f.concat(\n",
    "    f.lit(\"https://www.themoviedb.org/movie/\"), f.col(\"tmdbId\").cast(\"string\"))\n",
    "    )\n",
    "tmdb_links.show(truncate=False)"
   ]
  },
  {
   "cell_type": "code",
   "execution_count": 34,
   "metadata": {},
   "outputs": [],
   "source": [
    "spark.stop()"
   ]
  }
 ],
 "metadata": {
  "kernelspec": {
   "display_name": "Python 3",
   "language": "python",
   "name": "python3"
  },
  "language_info": {
   "codemirror_mode": {
    "name": "ipython",
    "version": 3
   },
   "file_extension": ".py",
   "mimetype": "text/x-python",
   "name": "python",
   "nbconvert_exporter": "python",
   "pygments_lexer": "ipython3",
   "version": "3.12.4"
  }
 },
 "nbformat": 4,
 "nbformat_minor": 2
}
